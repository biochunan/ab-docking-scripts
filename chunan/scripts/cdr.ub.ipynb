{
 "cells": [
  {
   "cell_type": "markdown",
   "metadata": {
    "pycharm": {
     "name": "#%% md\n"
    }
   },
   "source": [
    "# Antibody CDR loop conformational change analysis before and after complexation\n",
    "\n",
    "### Glossary\n",
    "1. Unbound or Free antibody structures: are antibody structures before complexation with antigen, extracted from Ab pdb file\n",
    "2. Bound or Complexed antibody structures: are antibody structures after complexation with antigen, extracted from AbAg complex pdb file"
   ]
  },
  {
   "cell_type": "code",
   "execution_count": 1,
   "metadata": {
    "collapsed": false,
    "jupyter": {
     "outputs_hidden": false
    },
    "pycharm": {
     "name": "#%%\n"
    }
   },
   "outputs": [],
   "source": [
    "import json\n",
    "import re\n",
    "\n",
    "import scipy\n",
    "\n",
    "from cdr_analysis_tools import *\n",
    "%matplotlib inline"
   ]
  },
  {
   "cell_type": "markdown",
   "source": [
    "## Functions"
   ],
   "metadata": {
    "collapsed": false,
    "pycharm": {
     "name": "#%% md\n"
    }
   }
  },
  {
   "cell_type": "code",
   "execution_count": 2,
   "metadata": {
    "collapsed": false,
    "jupyter": {
     "outputs_hidden": false
    },
    "pycharm": {
     "name": "#%%\n"
    }
   },
   "outputs": [],
   "source": [
    "def plot_cdr_rmsd_violin(df: pd.DataFrame,\n",
    "                         col_names=None,\n",
    "                         title: str = None,\n",
    "                         xlabel: str = None,\n",
    "                         ylabel: str = None,\n",
    "                         size=None,\n",
    "                         save_fig_name: str = None):\n",
    "    fig = go.Figure()\n",
    "\n",
    "    if not col_names:\n",
    "        col_names = [f\"{i}_rmsd\" for i in 'fr,l1,l2,l3,h1,h2,h3'.split(',')]\n",
    "\n",
    "    for col in col_names:\n",
    "        fig.add_trace(go.Violin(y=df[col],\n",
    "                                name=col,\n",
    "                                box_visible=True,\n",
    "                                meanline_visible=True))\n",
    "    fig.update_layout(\n",
    "        title=dict(text=title, x=0.5, y=0.9, xanchor='center', yanchor='top', font=dict(size=15), ),\n",
    "        xaxis=dict(title=xlabel, ),\n",
    "        yaxis=dict(title=ylabel, ),\n",
    "        showlegend=True, )\n",
    "    fig.update_layout(width=size[0], height=size[1]) if size else fig.update_layout(width=None, height=None)\n",
    "\n",
    "    # show figure\n",
    "    iplot(fig)\n",
    "\n",
    "    # save figure\n",
    "    if save_fig_name:\n",
    "        os.makedirs('plots', exist_ok=True)\n",
    "        fig.write_image(f\"plots/{save_fig_name}.png\")\n",
    "        fig.write_image(f\"plots/{save_fig_name}.pdf\")\n",
    "\n",
    "def get_plot_name(binder_type: str,\n",
    "                  filter: bool,\n",
    "                  weight: bool,\n",
    "                  plot_name: str):\n",
    "    s = [binder_type]\n",
    "    s.append(\"filtered\") if filter else s.append(\"unfiltered\")\n",
    "    if weight: s.append(\"weighted\")\n",
    "    s.append(plot_name)\n",
    "    s = '.'.join(s)\n",
    "\n",
    "    return s\n",
    "\n",
    "def get_plot_title(binder_type: str,\n",
    "                   filter: bool,\n",
    "                   plot_name: str):\n",
    "    s = []\n",
    "    s.append(\"Filtered\") if filter else s.append(\"Unfiltered\")\n",
    "    s.append(binder_type)\n",
    "    s.append(plot_name)\n",
    "    s = ' '.join(s)\n",
    "    return s"
   ]
  },
  {
   "cell_type": "markdown",
   "metadata": {
    "pycharm": {
     "name": "#%% md\n"
    }
   },
   "source": [
    "## Main"
   ]
  },
  {
   "cell_type": "code",
   "execution_count": 19,
   "metadata": {
    "collapsed": false,
    "jupyter": {
     "outputs_hidden": false
    },
    "pycharm": {
     "name": "#%%\n"
    }
   },
   "outputs": [],
   "source": [
    "CDR= 'fr,l1,l2,l3,h1,h2,h3'.split(',')\n",
    "BASE = \"/Users/chunan/UCL/scripts/ab-docking-scripts/chunan\"  # change this path accordingly\n",
    "try:\n",
    "    assert os.path.isdir(BASE)\n",
    "except AssertionError:\n",
    "    raise NotADirectoryError(f\"Did not find BASE directory: {BASE}\")\n",
    "\n",
    "OUT = os.path.join(BASE, \"output\")  # directory to save plots and intermediate files\n",
    "DATA = os.path.join(BASE, \"data\")  # directory of input data"
   ]
  },
  {
   "cell_type": "markdown",
   "metadata": {
    "pycharm": {
     "name": "#%% md\n"
    }
   },
   "source": [
    "load profit antibody structure alignment results"
   ]
  },
  {
   "cell_type": "markdown",
   "metadata": {
    "pycharm": {
     "name": "#%% md\n"
    }
   },
   "source": [
    "### Load results.json"
   ]
  },
  {
   "cell_type": "code",
   "execution_count": 21,
   "metadata": {
    "collapsed": false,
    "jupyter": {
     "outputs_hidden": false
    },
    "pycharm": {
     "name": "#%%\n"
    }
   },
   "outputs": [],
   "source": [
    "# load profit results\n",
    "file = os.path.join(DATA, \"20220324.24Mar2022.ProFit.onVHVLseparately\", \"results.json\")\n",
    "with open(file, 'r') as f:\n",
    "    data = json.load(f)"
   ]
  },
  {
   "cell_type": "markdown",
   "metadata": {
    "pycharm": {
     "name": "#%% md\n"
    }
   },
   "source": [
    "### Read results.json as pd.DataFrame\n",
    "\n",
    "Data: RMSDs of CDR loops for each unbound/bound ab pair"
   ]
  },
  {
   "cell_type": "markdown",
   "source": [
    "parse json data object (dict)"
   ],
   "metadata": {
    "collapsed": false,
    "pycharm": {
     "name": "#%% md\n"
    }
   }
  },
  {
   "cell_type": "code",
   "execution_count": 22,
   "metadata": {
    "collapsed": false,
    "jupyter": {
     "outputs_hidden": false
    },
    "pycharm": {
     "name": "#%%\n"
    }
   },
   "outputs": [],
   "source": [
    "# categorical\n",
    "line_id_list, ub_name_list =[], []\n",
    "# numerical\n",
    "ub_num_atm_aln_list = []\n",
    "ub_rmsd_list = []\n",
    "ub_angle_dif_list = []\n",
    "\n",
    "for line_id, v1 in data.items():\n",
    "    abpa = v1['abpackingangle']['unbound']\n",
    "    abpa.update(v1['abpackingangle']['bound'])\n",
    "    for ub_name, v2 in v1['ub'].items():\n",
    "        line_id_list.append(int(line_id))\n",
    "        ub_name_list.append(ub_name)\n",
    "        # Superimpose FR: FR, L1, L2, L3, H1, H2, H3\n",
    "        rmsd = [v2['rmsd'][k] for k in\n",
    "                ['FR'] + [f'{c}{i}' for c in ('H', 'L') for i in range(1, 4)] +\n",
    "                ['H_FR'] + [f'H_H{i}' for i in range(1, 4)] +\n",
    "                ['L_FR'] + [f'L_L{i}' for i in range(1, 4)]]\n",
    "        # num_atm_aln = list(v2['num_atm_aln'].values())\n",
    "        num_atm_aln = [v2['num_atm_aln'][k] for k in\n",
    "                       ['FR', 'H_FR', 'L_FR'] + [f'{c}{i}' for c in ('H', 'L') for i in range(1, 4)]]\n",
    "        ub_rmsd_list.append(rmsd)\n",
    "        ub_num_atm_aln_list.append(num_atm_aln)\n",
    "        # ab packing angle\n",
    "        try:\n",
    "            a_dif = abs(abpa[ub_name[:6]]-abpa[ub_name[-6:]])\n",
    "        except:\n",
    "            a_dif = None\n",
    "        ub_angle_dif_list.append(a_dif)\n",
    "\n",
    "ub_rmsd = np.array(ub_rmsd_list)  # [fr_rmsd, h_rmsd, l_rmsd, h1_rmsd, h2_rmsd, h3_rmsd, l1_rmsd, l2_rmsd, l3_rmsd, h_h1, h_h2, h_h3, l_l1, l_l2, l_l3]\n",
    "ub_num_atm_aln = np.array(ub_num_atm_aln_list, dtype=np.int32)  # [fr, h_fr, l_fr, h1, h2, h3, l1, l2, l3]\n",
    "ub_angle_dif = np.array(ub_angle_dif_list, dtype=np.float64)"
   ]
  },
  {
   "cell_type": "markdown",
   "source": [
    "convert to pandas DataFrame"
   ],
   "metadata": {
    "collapsed": false,
    "pycharm": {
     "name": "#%% md\n"
    }
   }
  },
  {
   "cell_type": "code",
   "execution_count": 23,
   "metadata": {
    "collapsed": false,
    "jupyter": {
     "outputs_hidden": false
    },
    "pycharm": {
     "name": "#%%\n"
    }
   },
   "outputs": [],
   "source": [
    "ub_df = pd.DataFrame(columns=[\n",
    "    'line_id', 'ub_name',\n",
    "    # superimpose hl framework, cols: [2:11]\n",
    "    'fr_rmsd',\n",
    "    'h1_rmsd', 'h2_rmsd', 'h3_rmsd',\n",
    "    'l1_rmsd', 'l2_rmsd', 'l3_rmsd',\n",
    "    # superimpose H framework, cols: [11:14]\n",
    "    'h_rmsd', 'h_h1_rmsd', 'h_h2_rmsd', 'h_h3_rmsd',\n",
    "    # superimpose L framework, cols: [14:17]\n",
    "    'l_rmsd', 'l_l1_rmsd', 'l_l2_rmsd', 'l_l3_rmsd',\n",
    "    # packing angle difference, col [17]\n",
    "    'angle_dif',\n",
    "    # num_atm_aln, cols: [18:27]\n",
    "    'fr_num_atm_aln', 'h_num_atm_aln', 'l_num_atm_aln',\n",
    "    'h1_num_atm_aln', 'h2_num_atm_aln', 'h3_num_atm_aln',\n",
    "    'l1_num_atm_aln', 'l2_num_atm_aln', 'l3_num_atm_aln',])\n",
    "\n",
    "ub_df['line_id'] = line_id_list\n",
    "ub_df['ub_name'] = ub_name_list\n",
    "ub_df.iloc[:, 2:17] = ub_rmsd\n",
    "ub_df.iloc[:, 17] = ub_angle_dif\n",
    "ub_df.iloc[:, 18:27] = ub_num_atm_aln"
   ]
  },
  {
   "cell_type": "markdown",
   "metadata": {
    "pycharm": {
     "name": "#%% md\n"
    }
   },
   "source": [
    "### cleaning\n",
    "There exists cases whose the number of aligned CDR loop CA atoms greater than 100.\n",
    "\n",
    "Cause: missing CDR loop atoms"
   ]
  },
  {
   "cell_type": "code",
   "execution_count": 24,
   "metadata": {
    "collapsed": false,
    "jupyter": {
     "outputs_hidden": false
    },
    "pycharm": {
     "name": "#%%\n"
    }
   },
   "outputs": [
    {
     "name": "stdout",
     "output_type": "stream",
     "text": [
      "l1_num_atm_aln > 100: 0\n",
      "l2_num_atm_aln > 100: 0\n",
      "l3_num_atm_aln > 100: 4\n",
      "h1_num_atm_aln > 100: 0\n",
      "h2_num_atm_aln > 100: 0\n",
      "h3_num_atm_aln > 100: 8\n",
      "2303    5YWF_1,5YWP_1\n",
      "2304    5YWF_1,5YWP_2\n",
      "2305    5YWF_2,5YWP_1\n",
      "2306    5YWF_2,5YWP_2\n",
      "Name: ub_name, dtype: object\n",
      "1015    3QNY_1,3QO0_1\n",
      "1016    3QNY_1,3QO1_1\n",
      "1017    3QNY_2,3QO0_1\n",
      "1018    3QNY_2,3QO1_1\n",
      "1023    3QNY_1,3QO0_1\n",
      "1024    3QNY_1,3QO1_1\n",
      "1025    3QNY_2,3QO0_1\n",
      "1026    3QNY_2,3QO1_1\n",
      "Name: ub_name, dtype: object\n"
     ]
    }
   ],
   "source": [
    "print('l1_num_atm_aln > 100:', ub_df[ub_df.l1_num_atm_aln>50].shape[0])\n",
    "print('l2_num_atm_aln > 100:', ub_df[ub_df.l2_num_atm_aln>50].shape[0])\n",
    "print('l3_num_atm_aln > 100:', ub_df[ub_df.l3_num_atm_aln>50].shape[0])\n",
    "print('h1_num_atm_aln > 100:', ub_df[ub_df.h1_num_atm_aln>50].shape[0])\n",
    "print('h2_num_atm_aln > 100:', ub_df[ub_df.h2_num_atm_aln>50].shape[0])\n",
    "print('h3_num_atm_aln > 100:', ub_df[ub_df.h3_num_atm_aln>50].shape[0])\n",
    "\n",
    "print(ub_df[ub_df.l3_num_atm_aln>50].ub_name)\n",
    "print(ub_df[ub_df.h3_num_atm_aln>50].ub_name)"
   ]
  },
  {
   "cell_type": "markdown",
   "source": [
    "exclude items found above and items with null objects"
   ],
   "metadata": {
    "collapsed": false,
    "pycharm": {
     "name": "#%% md\n"
    }
   }
  },
  {
   "cell_type": "code",
   "execution_count": 25,
   "metadata": {
    "collapsed": false,
    "jupyter": {
     "outputs_hidden": false
    },
    "pycharm": {
     "name": "#%%\n"
    }
   },
   "outputs": [],
   "source": [
    "ub_df = ub_df[(ub_df.h1_num_atm_aln<100) & (ub_df.h2_num_atm_aln<100) & (ub_df.h3_num_atm_aln<100) &\n",
    "              (ub_df.l1_num_atm_aln<100) & (ub_df.l2_num_atm_aln<100) & (ub_df.l3_num_atm_aln<100)]\n",
    "\n",
    "# filter null\n",
    "ub_df = ub_df[- pd.isnull(ub_df.angle_dif)].copy()"
   ]
  },
  {
   "cell_type": "markdown",
   "source": [
    "print data size, i.e. number of pairs, and save a csv file"
   ],
   "metadata": {
    "collapsed": false,
    "pycharm": {
     "name": "#%% md\n"
    }
   }
  },
  {
   "cell_type": "code",
   "execution_count": 26,
   "outputs": [
    {
     "name": "stdout",
     "output_type": "stream",
     "text": [
      "Number of unbound/bound pairs: 2457\n"
     ]
    }
   ],
   "source": [
    "print(f\"Number of unbound/bound pairs: {ub_df.shape[0]}\")"
   ],
   "metadata": {
    "collapsed": false,
    "pycharm": {
     "name": "#%%\n"
    }
   }
  },
  {
   "cell_type": "code",
   "execution_count": 27,
   "metadata": {
    "collapsed": false,
    "jupyter": {
     "outputs_hidden": false
    },
    "pycharm": {
     "name": "#%%\n"
    }
   },
   "outputs": [],
   "source": [
    "# save DataFrame as csv\n",
    "csv_file = os.path.join(OUT, 'ub.cdr.csv')\n",
    "ub_df.to_csv(csv_file, index=False)"
   ]
  },
  {
   "cell_type": "markdown",
   "source": [
    "### Filter out problematic files"
   ],
   "metadata": {
    "collapsed": false,
    "pycharm": {
     "name": "#%% md\n"
    }
   }
  },
  {
   "cell_type": "markdown",
   "source": [
    "#### resolution"
   ],
   "metadata": {
    "collapsed": false,
    "pycharm": {
     "name": "#%% md\n"
    }
   }
  },
  {
   "cell_type": "markdown",
   "source": [
    "Add structure resolution to our DataFrame"
   ],
   "metadata": {
    "collapsed": false,
    "pycharm": {
     "name": "#%% md\n"
    }
   }
  },
  {
   "cell_type": "code",
   "execution_count": 30,
   "outputs": [],
   "source": [
    "reso_file = os.path.join(DATA, \"abdb.pdb.resolution.text\")\n",
    "d = dict(pdbid=[], reso=[])\n",
    "with open(reso_file, 'r') as f:\n",
    "    for l in f:\n",
    "        pdbid, reso = re.search(r\".*/(\\w+_\\w+).pdb.*RESOLUTION\\s+([\\d.]+)\\n\", l).groups()\n",
    "        d[\"pdbid\"].append(pdbid)\n",
    "        d[\"reso\"].append(float(reso))\n",
    "reso_df = pd.DataFrame(d)"
   ],
   "metadata": {
    "collapsed": false,
    "pycharm": {
     "name": "#%%\n"
    }
   }
  },
  {
   "cell_type": "code",
   "execution_count": 31,
   "outputs": [],
   "source": [
    "ub_df['u_reso'] = [reso_df[reso_df.pdbid==i.split(',')[0]].reso.values[0]\n",
    "                   for i in ub_df['ub_name']]\n",
    "ub_df['b_reso'] = [reso_df[reso_df.pdbid==i.split(',')[1]].reso.values[0]\n",
    "                   for i in ub_df['ub_name']]"
   ],
   "metadata": {
    "collapsed": false,
    "pycharm": {
     "name": "#%%\n"
    }
   }
  },
  {
   "cell_type": "markdown",
   "source": [
    "a quick look at entries whose resolution is lower than 3 angstrom"
   ],
   "metadata": {
    "collapsed": false,
    "pycharm": {
     "name": "#%% md\n"
    }
   }
  },
  {
   "cell_type": "code",
   "execution_count": 32,
   "outputs": [
    {
     "data": {
      "text/plain": "      line_id        ub_name  fr_rmsd  h1_rmsd  h2_rmsd  h3_rmsd  l1_rmsd  \\\n160        46  1NGZ_1,1NGX_1    2.174    4.727    2.561    6.710    0.913   \n161        46  1NGZ_1,1NGX_2    2.114    4.786    1.986    6.767    0.495   \n1212      177  4FQ1_1,4JY4_1    1.123    0.592    0.643    1.032    0.640   \n1213      177  4FQC_1,4JY4_1    1.112    0.537    0.433    0.801    0.569   \n1437      183  4M7Z_1,4M7J_1    1.093    1.199    0.891    3.057    2.418   \n...       ...            ...      ...      ...      ...      ...      ...   \n2451      316  4FNL_2,4FNL_1    0.086    0.097    0.090    0.066    0.063   \n1128      161  4FNL_2,4FNL_1    0.086    0.097    0.090    0.066    0.063   \n662        85  2R1X_1,3T65_1    0.074    0.108    0.103    0.118    0.222   \n656        85  2R1X_1,2R2B_1    0.057    0.054    0.101    0.079    0.153   \n2051      253  5L88_1,5L9D_1    0.026    0.020    0.016    0.022    0.021   \n\n      l2_rmsd  l3_rmsd  h_rmsd  ...  h_num_atm_aln  l_num_atm_aln  \\\n160     0.849    1.368   2.788  ...             89             76   \n161     0.443    0.871   2.787  ...             89             76   \n1212    0.528    0.671   1.066  ...             89             58   \n1213    0.674    0.420   0.864  ...             89             58   \n1437    0.967    0.841   0.890  ...             66             76   \n...       ...      ...     ...  ...            ...            ...   \n2451    0.081    0.071   0.084  ...             89             76   \n1128    0.081    0.071   0.084  ...             89             76   \n662     0.067    0.044   0.062  ...             89             76   \n656     0.031    0.080   0.052  ...             89             76   \n2051    0.020    0.019   0.019  ...             89             76   \n\n      h1_num_atm_aln  h2_num_atm_aln  h3_num_atm_aln  l1_num_atm_aln  \\\n160                7               6               5              11   \n161                7               6               5              11   \n1212               7               5              24              11   \n1213               7               5              24              11   \n1437               7               5              10              16   \n...              ...             ...             ...             ...   \n2451              12               6              24              11   \n1128              12               6              24              11   \n662                7               8              11              17   \n656                7               8              11              17   \n2051               7               6               9              12   \n\n      l2_num_atm_aln  l3_num_atm_aln  u_reso  b_reso  \n160                7               9    1.60    1.80  \n161                7               9    1.60    1.80  \n1212               7              12    3.00    2.80  \n1213               7              12    2.40    2.80  \n1437               7               9    2.75    1.95  \n...              ...             ...     ...     ...  \n2451               7               9    2.30    2.30  \n1128               7               9    2.30    2.30  \n662                7               8    1.60    1.45  \n656                7               8    1.60    1.60  \n2051               7               9    1.88    1.88  \n\n[1669 rows x 29 columns]",
      "text/html": "<div>\n<style scoped>\n    .dataframe tbody tr th:only-of-type {\n        vertical-align: middle;\n    }\n\n    .dataframe tbody tr th {\n        vertical-align: top;\n    }\n\n    .dataframe thead th {\n        text-align: right;\n    }\n</style>\n<table border=\"1\" class=\"dataframe\">\n  <thead>\n    <tr style=\"text-align: right;\">\n      <th></th>\n      <th>line_id</th>\n      <th>ub_name</th>\n      <th>fr_rmsd</th>\n      <th>h1_rmsd</th>\n      <th>h2_rmsd</th>\n      <th>h3_rmsd</th>\n      <th>l1_rmsd</th>\n      <th>l2_rmsd</th>\n      <th>l3_rmsd</th>\n      <th>h_rmsd</th>\n      <th>...</th>\n      <th>h_num_atm_aln</th>\n      <th>l_num_atm_aln</th>\n      <th>h1_num_atm_aln</th>\n      <th>h2_num_atm_aln</th>\n      <th>h3_num_atm_aln</th>\n      <th>l1_num_atm_aln</th>\n      <th>l2_num_atm_aln</th>\n      <th>l3_num_atm_aln</th>\n      <th>u_reso</th>\n      <th>b_reso</th>\n    </tr>\n  </thead>\n  <tbody>\n    <tr>\n      <th>160</th>\n      <td>46</td>\n      <td>1NGZ_1,1NGX_1</td>\n      <td>2.174</td>\n      <td>4.727</td>\n      <td>2.561</td>\n      <td>6.710</td>\n      <td>0.913</td>\n      <td>0.849</td>\n      <td>1.368</td>\n      <td>2.788</td>\n      <td>...</td>\n      <td>89</td>\n      <td>76</td>\n      <td>7</td>\n      <td>6</td>\n      <td>5</td>\n      <td>11</td>\n      <td>7</td>\n      <td>9</td>\n      <td>1.60</td>\n      <td>1.80</td>\n    </tr>\n    <tr>\n      <th>161</th>\n      <td>46</td>\n      <td>1NGZ_1,1NGX_2</td>\n      <td>2.114</td>\n      <td>4.786</td>\n      <td>1.986</td>\n      <td>6.767</td>\n      <td>0.495</td>\n      <td>0.443</td>\n      <td>0.871</td>\n      <td>2.787</td>\n      <td>...</td>\n      <td>89</td>\n      <td>76</td>\n      <td>7</td>\n      <td>6</td>\n      <td>5</td>\n      <td>11</td>\n      <td>7</td>\n      <td>9</td>\n      <td>1.60</td>\n      <td>1.80</td>\n    </tr>\n    <tr>\n      <th>1212</th>\n      <td>177</td>\n      <td>4FQ1_1,4JY4_1</td>\n      <td>1.123</td>\n      <td>0.592</td>\n      <td>0.643</td>\n      <td>1.032</td>\n      <td>0.640</td>\n      <td>0.528</td>\n      <td>0.671</td>\n      <td>1.066</td>\n      <td>...</td>\n      <td>89</td>\n      <td>58</td>\n      <td>7</td>\n      <td>5</td>\n      <td>24</td>\n      <td>11</td>\n      <td>7</td>\n      <td>12</td>\n      <td>3.00</td>\n      <td>2.80</td>\n    </tr>\n    <tr>\n      <th>1213</th>\n      <td>177</td>\n      <td>4FQC_1,4JY4_1</td>\n      <td>1.112</td>\n      <td>0.537</td>\n      <td>0.433</td>\n      <td>0.801</td>\n      <td>0.569</td>\n      <td>0.674</td>\n      <td>0.420</td>\n      <td>0.864</td>\n      <td>...</td>\n      <td>89</td>\n      <td>58</td>\n      <td>7</td>\n      <td>5</td>\n      <td>24</td>\n      <td>11</td>\n      <td>7</td>\n      <td>12</td>\n      <td>2.40</td>\n      <td>2.80</td>\n    </tr>\n    <tr>\n      <th>1437</th>\n      <td>183</td>\n      <td>4M7Z_1,4M7J_1</td>\n      <td>1.093</td>\n      <td>1.199</td>\n      <td>0.891</td>\n      <td>3.057</td>\n      <td>2.418</td>\n      <td>0.967</td>\n      <td>0.841</td>\n      <td>0.890</td>\n      <td>...</td>\n      <td>66</td>\n      <td>76</td>\n      <td>7</td>\n      <td>5</td>\n      <td>10</td>\n      <td>16</td>\n      <td>7</td>\n      <td>9</td>\n      <td>2.75</td>\n      <td>1.95</td>\n    </tr>\n    <tr>\n      <th>...</th>\n      <td>...</td>\n      <td>...</td>\n      <td>...</td>\n      <td>...</td>\n      <td>...</td>\n      <td>...</td>\n      <td>...</td>\n      <td>...</td>\n      <td>...</td>\n      <td>...</td>\n      <td>...</td>\n      <td>...</td>\n      <td>...</td>\n      <td>...</td>\n      <td>...</td>\n      <td>...</td>\n      <td>...</td>\n      <td>...</td>\n      <td>...</td>\n      <td>...</td>\n      <td>...</td>\n    </tr>\n    <tr>\n      <th>2451</th>\n      <td>316</td>\n      <td>4FNL_2,4FNL_1</td>\n      <td>0.086</td>\n      <td>0.097</td>\n      <td>0.090</td>\n      <td>0.066</td>\n      <td>0.063</td>\n      <td>0.081</td>\n      <td>0.071</td>\n      <td>0.084</td>\n      <td>...</td>\n      <td>89</td>\n      <td>76</td>\n      <td>12</td>\n      <td>6</td>\n      <td>24</td>\n      <td>11</td>\n      <td>7</td>\n      <td>9</td>\n      <td>2.30</td>\n      <td>2.30</td>\n    </tr>\n    <tr>\n      <th>1128</th>\n      <td>161</td>\n      <td>4FNL_2,4FNL_1</td>\n      <td>0.086</td>\n      <td>0.097</td>\n      <td>0.090</td>\n      <td>0.066</td>\n      <td>0.063</td>\n      <td>0.081</td>\n      <td>0.071</td>\n      <td>0.084</td>\n      <td>...</td>\n      <td>89</td>\n      <td>76</td>\n      <td>12</td>\n      <td>6</td>\n      <td>24</td>\n      <td>11</td>\n      <td>7</td>\n      <td>9</td>\n      <td>2.30</td>\n      <td>2.30</td>\n    </tr>\n    <tr>\n      <th>662</th>\n      <td>85</td>\n      <td>2R1X_1,3T65_1</td>\n      <td>0.074</td>\n      <td>0.108</td>\n      <td>0.103</td>\n      <td>0.118</td>\n      <td>0.222</td>\n      <td>0.067</td>\n      <td>0.044</td>\n      <td>0.062</td>\n      <td>...</td>\n      <td>89</td>\n      <td>76</td>\n      <td>7</td>\n      <td>8</td>\n      <td>11</td>\n      <td>17</td>\n      <td>7</td>\n      <td>8</td>\n      <td>1.60</td>\n      <td>1.45</td>\n    </tr>\n    <tr>\n      <th>656</th>\n      <td>85</td>\n      <td>2R1X_1,2R2B_1</td>\n      <td>0.057</td>\n      <td>0.054</td>\n      <td>0.101</td>\n      <td>0.079</td>\n      <td>0.153</td>\n      <td>0.031</td>\n      <td>0.080</td>\n      <td>0.052</td>\n      <td>...</td>\n      <td>89</td>\n      <td>76</td>\n      <td>7</td>\n      <td>8</td>\n      <td>11</td>\n      <td>17</td>\n      <td>7</td>\n      <td>8</td>\n      <td>1.60</td>\n      <td>1.60</td>\n    </tr>\n    <tr>\n      <th>2051</th>\n      <td>253</td>\n      <td>5L88_1,5L9D_1</td>\n      <td>0.026</td>\n      <td>0.020</td>\n      <td>0.016</td>\n      <td>0.022</td>\n      <td>0.021</td>\n      <td>0.020</td>\n      <td>0.019</td>\n      <td>0.019</td>\n      <td>...</td>\n      <td>89</td>\n      <td>76</td>\n      <td>7</td>\n      <td>6</td>\n      <td>9</td>\n      <td>12</td>\n      <td>7</td>\n      <td>9</td>\n      <td>1.88</td>\n      <td>1.88</td>\n    </tr>\n  </tbody>\n</table>\n<p>1669 rows × 29 columns</p>\n</div>"
     },
     "execution_count": 32,
     "metadata": {},
     "output_type": "execute_result"
    }
   ],
   "source": [
    "_df = ub_df[(ub_df.u_reso<=3.) & (ub_df.b_reso<=3)]\n",
    "_df.sort_values(by=['fr_rmsd'], ascending=False)"
   ],
   "metadata": {
    "collapsed": false,
    "pycharm": {
     "name": "#%%\n"
    }
   }
  },
  {
   "cell_type": "markdown",
   "source": [
    "1NGZ_1,1NGX_1 and 1NGZ_1,1NGX_2 excluded, because the beta strand formed by residue 1-8 of the heavy chain were flipped.\n",
    "It leads to an increase in the overall framework rmsd.\n"
   ],
   "metadata": {
    "collapsed": false,
    "pycharm": {
     "name": "#%% md\n"
    }
   }
  },
  {
   "cell_type": "markdown",
   "metadata": {
    "pycharm": {
     "name": "#%% md\n"
    }
   },
   "source": [
    "## Filtered\n",
    "\n",
    "xais: CDR loops\n",
    "\n",
    "yaxis: CDR RMSD\n",
    "\n",
    "ref: [https://plotly.com/python/violin/](https://plotly.com/python/violin/)"
   ]
  },
  {
   "cell_type": "code",
   "execution_count": 33,
   "outputs": [
    {
     "name": "stdout",
     "output_type": "stream",
     "text": [
      "(2452, 29)\n"
     ]
    }
   ],
   "source": [
    "ub_df_filtered = ub_df[(ub_df.fr_rmsd < 1.5)].copy()\n",
    "print(ub_df_filtered.shape)"
   ],
   "metadata": {
    "collapsed": false,
    "pycharm": {
     "name": "#%%\n"
    }
   }
  },
  {
   "cell_type": "markdown",
   "source": [
    "Uncomment next cell to add resolution filtering"
   ],
   "metadata": {
    "collapsed": false,
    "pycharm": {
     "name": "#%% md\n"
    }
   }
  },
  {
   "cell_type": "code",
   "execution_count": 34,
   "metadata": {
    "collapsed": false,
    "jupyter": {
     "outputs_hidden": false
    },
    "pycharm": {
     "name": "#%%\n"
    }
   },
   "outputs": [],
   "source": [
    "# ub_df_filtered = ub_df[(ub_df.fr_rmsd < 1.5) & (ub_df.u_reso<=3.) & (ub_df.b_reso<=3)].copy()\n",
    "# print(ub_df_filtered.shape)"
   ]
  },
  {
   "cell_type": "markdown",
   "metadata": {
    "pycharm": {
     "name": "#%% md\n"
    }
   },
   "source": [
    "### Calculate weights\n",
    "\n",
    "Because antibodies from the same line in the list file has the same sequence, CDR movement difference between unbound/bound pairs within the same line is expected to be smaller than pairs sampled from different lines.\n",
    "\n",
    "So I assign the same weight to each line, i.e. if there is 10 lines in the file, then the weight of each line is 1/10=0.1;\n",
    "say if there are 10 pairs in line 1: then CDR RMSD of each pair in this line is 0.1/10=0.01"
   ]
  },
  {
   "cell_type": "code",
   "execution_count": 37,
   "metadata": {
    "collapsed": false,
    "jupyter": {
     "outputs_hidden": false
    },
    "pycharm": {
     "name": "#%%\n"
    }
   },
   "outputs": [
    {
     "data": {
      "text/plain": "0.0"
     },
     "execution_count": 37,
     "metadata": {},
     "output_type": "execute_result"
    }
   ],
   "source": [
    "t = ub_df_filtered.line_id.value_counts()\n",
    "q = pd.DataFrame()\n",
    "q['line_id'] = t.index\n",
    "q['weights'] = 1/t.values\n",
    "\n",
    "ub_df_filtered_wt = pd.merge(ub_df_filtered, q, on='line_id')\n",
    "ub_df_filtered_wt.weights = ub_df_filtered_wt.weights / ub_df_filtered_wt.weights.sum()\n",
    "\n",
    "# examine a random line weight sum up to 1/NUM_LINES\n",
    "num_of_lines = ub_df_filtered_wt.line_id.drop_duplicates().shape[0]\n",
    "_n = 17  # random line number\n",
    "ub_df_filtered_wt[ub_df_filtered_wt.line_id==_n]['weights'].sum() - 1 / num_of_lines  # => expected to 0.0"
   ]
  },
  {
   "cell_type": "markdown",
   "metadata": {
    "pycharm": {
     "name": "#%% md\n"
    }
   },
   "source": [
    "### (PLOT) Histogram: Weighted Unbound/Bound CDR Loop RMSD distribution"
   ]
  },
  {
   "cell_type": "code",
   "execution_count": 38,
   "outputs": [],
   "source": [
    "def find_weighted_quantile(df: pd.DataFrame, col_name: str, q: float):\n",
    "    \"\"\"\n",
    "    Find weighted quantile, cumulative sum of cases and their weights to a quantile.\n",
    "    1. sort table in ascending order by a given column i.e. CDR RMSD column, e.g. \"h_h1_rmsd\"\n",
    "    2. do a cumulative sum of the cases by their weights and find item that exceeds a certain threshold, e.g. median (0.5) or 3rd quantile (0.75)\n",
    "    3. retrieve RMSD of the case that exceeds the threshold\n",
    "    \"\"\"\n",
    "    _df = df.sort_values(by=[col_name], ascending=True)[[col_name, 'weights']]\n",
    "    return _df.iloc[np.where(np.cumsum(_df.weights)>=q)[0][0], 0]\n",
    "\n",
    "def find_thr_percentile(df: pd.DataFrame, col_name: str, thr: float):\n",
    "    \"\"\" Similar to find_weighted_quantile, this one finds the quantile item whose attribute exceeds the specified threshold. \"\"\"\n",
    "    _df = df.sort_values(by=[col_name], ascending=True)[[col_name, 'weights']]\n",
    "    boundary = _df.iloc[np.where(_df[col_name] >= thr )[0][0], 0]\n",
    "    percentile = sum(_df[_df[col_name] <= thr].weights)\n",
    "    return boundary, percentile"
   ],
   "metadata": {
    "collapsed": false,
    "pycharm": {
     "name": "#%%\n"
    }
   }
  },
  {
   "cell_type": "code",
   "execution_count": 40,
   "outputs": [
    {
     "name": "stdout",
     "output_type": "stream",
     "text": [
      "85.6% cases have CDR H3 RMSD lower than 2.0 Angstrom.\n"
     ]
    }
   ],
   "source": [
    "# find the fraction of H3 rmsd > 2\n",
    "_r, _f = find_thr_percentile(ub_df_filtered_wt, 'h_h3_rmsd', 2.0)\n",
    "print(f\"{_f*100:.1f}% cases have CDR H3 RMSD lower than 2.0 Angstrom.\")"
   ],
   "metadata": {
    "collapsed": false,
    "pycharm": {
     "name": "#%%\n"
    }
   }
  },
  {
   "cell_type": "markdown",
   "source": [
    "plot"
   ],
   "metadata": {
    "collapsed": false,
    "pycharm": {
     "name": "#%% md\n"
    }
   }
  },
  {
   "cell_type": "code",
   "execution_count": 41,
   "metadata": {
    "collapsed": false,
    "jupyter": {
     "outputs_hidden": false
    },
    "pycharm": {
     "name": "#%%\n"
    }
   },
   "outputs": [
    {
     "name": "stderr",
     "output_type": "stream",
     "text": [
      "/var/folders/30/6ssmg8zn4179tmb1j89fkg5h0000gn/T/ipykernel_14703/1865075385.py:37: UserWarning:\n",
      "\n",
      "Matplotlib is currently using module://matplotlib_inline.backend_inline, which is a non-GUI backend, so cannot show the figure.\n",
      "\n"
     ]
    },
    {
     "data": {
      "text/plain": "<Figure size 864x432 with 6 Axes>",
      "image/png": "[encoded data removed]"
     },
     "metadata": {
      "needs_background": "light"
     },
     "output_type": "display_data"
    }
   ],
   "source": [
    "# initiate subplots\n",
    "fig, axes = plt.subplots(2, 3, figsize=(12, 6), sharex=True, sharey=True)\n",
    "axes = axes.flatten()\n",
    "\n",
    "col_names = ['l_l1_rmsd', 'l_l2_rmsd', 'l_l3_rmsd', 'h_h1_rmsd', 'h_h2_rmsd', 'h_h3_rmsd', ]\n",
    "bins = list(np.linspace(0, 5, 50))\n",
    "sns_kwargs = dict(bins=bins, kde=True, alpha=0.2, edgecolor=None)\n",
    "\n",
    "# subplots\n",
    "for i, c in enumerate(col_names):\n",
    "    ax = axes[i]\n",
    "    if i < 3:  # light chain coluor blue\n",
    "        sns.histplot(ub_df_filtered_wt, x=c, label=c, weights=ub_df_filtered_wt.weights, ax=ax, **sns_kwargs)\n",
    "    else: # heavy chain colour orange\n",
    "        sns.histplot(ub_df_filtered_wt, x=c, label=c, weights=ub_df_filtered_wt.weights, ax=ax, color='orange', **sns_kwargs)\n",
    "\n",
    "    # annotate median\n",
    "    median = np.quantile(ub_df_filtered_wt[c], .5)\n",
    "    ax.vlines(x=median, ymin=0, ymax=.20, color='red', linewidth=0.75)\n",
    "    ax.annotate(f'median: {median:.3f} Å', xy=(median, 0.20))\n",
    "\n",
    "    # annotate q3\n",
    "    q3 = find_weighted_quantile(ub_df_filtered_wt, c, .75)\n",
    "    ax.vlines(x=q3, ymin=0, ymax=.10, color='red', linewidth=0.75)\n",
    "    ax.annotate(f'q3: {q3:.3f} Å', xy=(q3, 0.10))\n",
    "\n",
    "    # annotate 2.0 Angstrom\n",
    "    boundary, percentile = find_thr_percentile(ub_df_filtered_wt, c, 2.0)\n",
    "    ax.vlines(x=boundary, ymin=0, ymax=.05, color='grey', linewidth=0.75)\n",
    "    ax.annotate(f'{boundary:.3f} Å: {(1-percentile)*100:.1f}%', xy=(boundary, 0.05))\n",
    "\n",
    "    # other settings\n",
    "    ax.grid(alpha=0.2); ax.set_ylabel('Frequency'); ax.set_xlabel('RMSD'); ax.set_title(c.upper()[2:4])\n",
    "\n",
    "# beautify\n",
    "fig.tight_layout()\n",
    "fig.show()"
   ]
  },
  {
   "cell_type": "markdown",
   "source": [
    "save figures"
   ],
   "metadata": {
    "collapsed": false,
    "pycharm": {
     "name": "#%% md\n"
    }
   }
  },
  {
   "cell_type": "code",
   "execution_count": 44,
   "outputs": [],
   "source": [
    "# save fig\n",
    "save_fig_name = 'CDR_RMSD.FittedHeavyOrLightChainFR'\n",
    "od = os.path.join(OUT, \"plots\"); os.makedirs(od, exist_ok=True)\n",
    "fig.savefig(os.path.join(od, f\"{save_fig_name}.png\"), dpi=300, transparent=True)\n",
    "fig.savefig(os.path.join(od, f\"{save_fig_name}.pdf\"), transparent=True)"
   ],
   "metadata": {
    "collapsed": false,
    "pycharm": {
     "name": "#%%\n"
    }
   }
  },
  {
   "cell_type": "markdown",
   "metadata": {
    "pycharm": {
     "name": "#%% md\n"
    }
   },
   "source": [
    "## Number of residues of each CDR loop\n",
    "ub_df_filtered_wt"
   ]
  },
  {
   "cell_type": "code",
   "execution_count": 45,
   "metadata": {
    "collapsed": false,
    "jupyter": {
     "outputs_hidden": false
    },
    "pycharm": {
     "name": "#%%\n"
    }
   },
   "outputs": [
    {
     "name": "stderr",
     "output_type": "stream",
     "text": [
      "/var/folders/30/6ssmg8zn4179tmb1j89fkg5h0000gn/T/ipykernel_14703/2827541673.py:10: UserWarning:\n",
      "\n",
      "Matplotlib is currently using module://matplotlib_inline.backend_inline, which is a non-GUI backend, so cannot show the figure.\n",
      "\n"
     ]
    },
    {
     "data": {
      "text/plain": "<Figure size 1152x576 with 6 Axes>",
      "image/png": "[encoded data removed]"
     },
     "metadata": {
      "needs_background": "light"
     },
     "output_type": "display_data"
    }
   ],
   "source": [
    "fig, axes = plt.subplots(2,3,figsize=(16, 8), sharey=True)\n",
    "axes = axes.flatten()\n",
    "for i, c in enumerate('l1,l2,l3,h1,h2,h3'.split(',')):\n",
    "    ax = axes[i]\n",
    "    sns.countplot(data=ub_df, x=f'{c}_num_atm_aln', ax=ax)\n",
    "    ax.set_title(c.upper())\n",
    "    ax.set_xlabel('')\n",
    "\n",
    "axes[-1].set_xticklabels(np.arange(3, 28), rotation=75)\n",
    "fig.show()"
   ]
  },
  {
   "cell_type": "markdown",
   "source": [
    "save figure"
   ],
   "metadata": {
    "collapsed": false,
    "pycharm": {
     "name": "#%% md\n"
    }
   }
  },
  {
   "cell_type": "code",
   "execution_count": 47,
   "outputs": [],
   "source": [
    "fig.savefig(os.path.join(OUT, 'plots', 'length_of_CDRs.pdf'), transparent=True)\n",
    "fig.savefig(os.path.join(OUT, 'plots', 'length_of_CDRs.png'), transparent=True, dpi=300)"
   ],
   "metadata": {
    "collapsed": false,
    "pycharm": {
     "name": "#%%\n"
    }
   }
  },
  {
   "cell_type": "markdown",
   "source": [
    "- L1: 11\n",
    "- L2: 7\n",
    "- L3: 9\n",
    "- H1: 7\n",
    "- H2: 6\n",
    "- H3: 11, 14, 18"
   ],
   "metadata": {
    "collapsed": false,
    "pycharm": {
     "name": "#%% md\n"
    }
   }
  }
 ],
 "metadata": {
  "kernelspec": {
   "display_name": "Python 3 (ipykernel)",
   "language": "python",
   "name": "python3"
  },
  "language_info": {
   "codemirror_mode": {
    "name": "ipython",
    "version": 3
   },
   "file_extension": ".py",
   "mimetype": "text/x-python",
   "name": "python",
   "nbconvert_exporter": "python",
   "pygments_lexer": "ipython3",
   "version": "3.9.7"
  }
 },
 "nbformat": 4,
 "nbformat_minor": 4
}